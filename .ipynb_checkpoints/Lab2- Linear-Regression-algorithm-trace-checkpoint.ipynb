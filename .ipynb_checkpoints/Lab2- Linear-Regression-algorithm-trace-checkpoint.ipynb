{
 "cells": [
  {
   "cell_type": "markdown",
   "metadata": {},
   "source": [
    "## Experiment 2: Linear Regression algorithm trace"
   ]
  },
  {
   "cell_type": "code",
   "execution_count": 1,
   "metadata": {
    "execution": {
     "iopub.execute_input": "2024-07-09T05:02:31.929253Z",
     "iopub.status.busy": "2024-07-09T05:02:31.928940Z",
     "iopub.status.idle": "2024-07-09T05:02:31.956621Z",
     "shell.execute_reply": "2024-07-09T05:02:31.955823Z",
     "shell.execute_reply.started": "2024-07-09T05:02:31.929199Z"
    }
   },
   "outputs": [
    {
     "data": {
      "text/html": [
       "<div>\n",
       "<style scoped>\n",
       "    .dataframe tbody tr th:only-of-type {\n",
       "        vertical-align: middle;\n",
       "    }\n",
       "\n",
       "    .dataframe tbody tr th {\n",
       "        vertical-align: top;\n",
       "    }\n",
       "\n",
       "    .dataframe thead th {\n",
       "        text-align: right;\n",
       "    }\n",
       "</style>\n",
       "<table border=\"1\" class=\"dataframe\">\n",
       "  <thead>\n",
       "    <tr style=\"text-align: right;\">\n",
       "      <th></th>\n",
       "      <th>srno</th>\n",
       "      <th>number of components</th>\n",
       "      <th>years of maintainence</th>\n",
       "    </tr>\n",
       "  </thead>\n",
       "  <tbody>\n",
       "    <tr>\n",
       "      <th>0</th>\n",
       "      <td>1</td>\n",
       "      <td>1</td>\n",
       "      <td>23</td>\n",
       "    </tr>\n",
       "    <tr>\n",
       "      <th>1</th>\n",
       "      <td>2</td>\n",
       "      <td>2</td>\n",
       "      <td>29</td>\n",
       "    </tr>\n",
       "    <tr>\n",
       "      <th>2</th>\n",
       "      <td>3</td>\n",
       "      <td>4</td>\n",
       "      <td>64</td>\n",
       "    </tr>\n",
       "    <tr>\n",
       "      <th>3</th>\n",
       "      <td>4</td>\n",
       "      <td>4</td>\n",
       "      <td>72</td>\n",
       "    </tr>\n",
       "    <tr>\n",
       "      <th>4</th>\n",
       "      <td>5</td>\n",
       "      <td>4</td>\n",
       "      <td>80</td>\n",
       "    </tr>\n",
       "  </tbody>\n",
       "</table>\n",
       "</div>"
      ],
      "text/plain": [
       "   srno  number of components  years of maintainence\n",
       "0     1                     1                     23\n",
       "1     2                     2                     29\n",
       "2     3                     4                     64\n",
       "3     4                     4                     72\n",
       "4     5                     4                     80"
      ]
     },
     "execution_count": 1,
     "metadata": {},
     "output_type": "execute_result"
    }
   ],
   "source": [
    "import pandas as pd  #Python library for data processing\n",
    "\n",
    "#Reading csv file\n",
    "data = pd.read_csv(\"data.csv\")\n",
    "data.head()\n",
    "\n"
   ]
  },
  {
   "cell_type": "code",
   "execution_count": 2,
   "metadata": {
    "execution": {
     "iopub.execute_input": "2024-07-09T05:02:49.394351Z",
     "iopub.status.busy": "2024-07-09T05:02:49.394038Z",
     "iopub.status.idle": "2024-07-09T05:02:49.654238Z",
     "shell.execute_reply": "2024-07-09T05:02:49.653502Z",
     "shell.execute_reply.started": "2024-07-09T05:02:49.394304Z"
    }
   },
   "outputs": [
    {
     "data": {
      "text/plain": [
       "<Axes: xlabel='number of components', ylabel='years of maintainence'>"
      ]
     },
     "execution_count": 2,
     "metadata": {},
     "output_type": "execute_result"
    },
    {
     "data": {
      "image/png": "[encoded data removed]",
      "text/plain": [
       "<Figure size 640x480 with 1 Axes>"
      ]
     },
     "metadata": {},
     "output_type": "display_data"
    }
   ],
   "source": [
    "#scattered plotting\n",
    "from matplotlib import pyplot as plt\n",
    "data.plot(kind='scatter', x='number of components', y='years of maintainence', s=32, alpha=.8)\n"
   ]
  },
  {
   "cell_type": "code",
   "execution_count": 3,
   "metadata": {
    "execution": {
     "iopub.status.busy": "2024-07-09T05:02:32.186472Z",
     "iopub.status.idle": "2024-07-09T05:02:32.187041Z"
    }
   },
   "outputs": [],
   "source": [
    "def predict_y(X, weight, bias):\n",
    "    return weight*X + bias"
   ]
  },
  {
   "cell_type": "code",
   "execution_count": 4,
   "metadata": {
    "execution": {
     "iopub.status.busy": "2024-07-09T05:02:32.188249Z",
     "iopub.status.idle": "2024-07-09T05:02:32.189189Z"
    }
   },
   "outputs": [],
   "source": [
    "#The cost function (MSE in this case) measures how well the linear model (defined by weight and bias) fits the data.\n",
    "def cost_function(X, y, weight, bias):\n",
    "    totalrecords = len(X)\n",
    "    total_error = 0.0\n",
    "    for i in range(totalrecords):\n",
    "        total_error += (y[i] - (weight*X[i] + bias))**2\n",
    "    return total_error / totalrecords"
   ]
  },
  {
   "cell_type": "code",
   "execution_count": 5,
   "metadata": {
    "execution": {
     "iopub.status.busy": "2024-07-09T05:02:32.190325Z",
     "iopub.status.idle": "2024-07-09T05:02:32.191116Z"
    }
   },
   "outputs": [],
   "source": [
    "#The update_weights function implements one step of gradient descent. It updates the weight and bias to reduce the MSE.\n",
    "def update_weights(X, y, weight, bias, learning_rate):\n",
    "    weight_deriv = 0\n",
    "    bias_deriv = 0\n",
    "    totalrecords = len(X)\n",
    "\n",
    "    for i in range(totalrecords):\n",
    "        # Calculate partial derivatives\n",
    "        # -2x(y - (mx + b))\n",
    "        weight_deriv += -2*X[i] * (y[i] - (weight*X[i] + bias))\n",
    "\n",
    "        # -2(y - (mx + b))\n",
    "        bias_deriv += -2*(y[i] - (weight*X[i] + bias))\n",
    "\n",
    "    # Subtracting because the derivatives point in direction of steepest ascent\n",
    "    weight -= (weight_deriv / totalrecords) * learning_rate\n",
    "    bias -= (bias_deriv / totalrecords) * learning_rate\n",
    "\n",
    "    return weight, bias"
   ]
  },
  {
   "cell_type": "code",
   "execution_count": 6,
   "metadata": {
    "execution": {
     "iopub.status.busy": "2024-07-09T05:02:32.192075Z",
     "iopub.status.idle": "2024-07-09T05:02:32.192902Z"
    }
   },
   "outputs": [],
   "source": [
    "#The train function uses gradient descent to optimize the weight and bias of a linear regression model over a specified number of iterations (iters).\n",
    "def train(X, y, weight, bias, learning_rate, iters):\n",
    "    cost_history = []\n",
    "\n",
    "    for i in range(iters):\n",
    "        weight,bias = update_weights(X, y, weight, bias, learning_rate)\n",
    "\n",
    "        #Calculate cost for auditing purposes\n",
    "        cost = cost_function(X, y, weight, bias)\n",
    "        cost_history.append(cost)\n",
    "\n",
    "        # Log Progress\n",
    "        if i % 10 == 0:\n",
    "            print(\"iter={:d}    weight={:.2f}    bias={:.4f}    cost(MSE)={:.2}\".format(i, weight, bias, cost))\n",
    "\n",
    "    \n",
    "    return weight, bias "
   ]
  },
  {
   "cell_type": "code",
   "execution_count": 7,
   "metadata": {
    "execution": {
     "iopub.status.busy": "2024-07-09T05:02:32.193989Z",
     "iopub.status.idle": "2024-07-09T05:02:32.194762Z"
    }
   },
   "outputs": [
    {
     "name": "stdout",
     "output_type": "stream",
     "text": [
      "iter=0    weight=14.84    bias=2.0214    cost(MSE)=9.8e+01\n",
      "iter=10    weight=15.92    bias=2.3572    cost(MSE)=4e+01\n",
      "iter=20    weight=15.90    bias=2.5380    cost(MSE)=4e+01\n",
      "iter=30    weight=15.87    bias=2.7127    cost(MSE)=4e+01\n",
      "iter=40    weight=15.85    bias=2.8815    cost(MSE)=4e+01\n",
      "iter=50    weight=15.83    bias=3.0445    cost(MSE)=3.9e+01\n",
      "iter=60    weight=15.81    bias=3.2021    cost(MSE)=3.9e+01\n",
      "iter=70    weight=15.79    bias=3.3543    cost(MSE)=3.9e+01\n",
      "iter=80    weight=15.77    bias=3.5014    cost(MSE)=3.9e+01\n",
      "iter=90    weight=15.75    bias=3.6436    cost(MSE)=3.8e+01\n",
      "The weight and bias learnt are::  weight=15.730128    bias=3.7674    \n"
     ]
    }
   ],
   "source": [
    "#Printing weights and biases after every iterations\n",
    "X = data['number of components'].values\n",
    "y = data['years of maintainence'].values\n",
    "weight = 0\n",
    "bias = 0\n",
    "lr = 0.01\n",
    "iters = 100\n",
    "weight,bias=train(X,y,weight,bias,lr,iters)\n",
    "print(\"The weight and bias learnt are::  weight={:f}    bias={:.4f}    \".format(weight, bias))"
   ]
  },
  {
   "cell_type": "code",
   "execution_count": 8,
   "metadata": {
    "execution": {
     "iopub.status.busy": "2024-07-09T05:02:32.195757Z",
     "iopub.status.idle": "2024-07-09T05:02:32.196476Z"
    }
   },
   "outputs": [
    {
     "name": "stdout",
     "output_type": "stream",
     "text": [
      "Enter the number of components for which you need prediction related to how many years of maintainece it would need 2\n",
      "It would need \n",
      "35.22763634059851\n"
     ]
    }
   ],
   "source": [
    "d=int(input('Enter the number of components for which you need prediction related to how many years of maintainece it would need '))\n",
    "\n",
    "years=predict_y(d, weight, bias)\n",
    "print('It would need ')\n",
    "print(years)"
   ]
  },
  {
   "cell_type": "code",
   "execution_count": null,
   "metadata": {},
   "outputs": [],
   "source": []
  }
 ],
 "metadata": {
  "kaggle": {
   "accelerator": "none",
   "dataSources": [
    {
     "datasetId": 5354203,
     "sourceId": 8905384,
     "sourceType": "datasetVersion"
    }
   ],
   "dockerImageVersionId": 25114,
   "isGpuEnabled": false,
   "isInternetEnabled": false,
   "language": "python",
   "sourceType": "notebook"
  },
  "kernelspec": {
   "display_name": "Python 3 (ipykernel)",
   "language": "python",
   "name": "python3"
  },
  "language_info": {
   "codemirror_mode": {
    "name": "ipython",
    "version": 3
   },
   "file_extension": ".py",
   "mimetype": "text/x-python",
   "name": "python",
   "nbconvert_exporter": "python",
   "pygments_lexer": "ipython3",
   "version": "3.11.5"
  }
 },
 "nbformat": 4,
 "nbformat_minor": 4
}
